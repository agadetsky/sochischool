{
  "cells": [
    {
      "cell_type": "markdown",
      "source": [
        "В этом практическом задании мы рассмотрим задачу восстановления синтаксических зависимостей между словами в предложении на примере предсказания результата вычисления математического выражения. Пример данных, с которыми нам предстоит работать можно видеть ниже."
      ],
      "metadata": {
        "id": "GVaMTtxNiDyT"
      },
      "id": "GVaMTtxNiDyT"
    },
    {
      "cell_type": "markdown",
      "source": [
        "![listops.jpg](data:image/jpeg;base64,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)"
      ],
      "metadata": {
        "id": "KFONMHHUldKw"
      },
      "id": "KFONMHHUldKw"
    },
    {
      "cell_type": "markdown",
      "source": [
        "Над математическим выражением можно видеть дерево синтаксического разбора. Человеческая аннотация для получения таких деревьев занимает очень много времени и требует специальных знаний от аннотаторов. Поэтому мы заинтересованы в создании моделей машинного обучения, которые могли бы автоматически восстанавливать такого рода зависимости из данных в режиме \"без учителя\". В данном задании мы будем реализовывать и обучать модель со скрытыми переменными, в которой в качестве скрытых переменных будет выступать такой граф. Данный подход позволит решить проблему отсутствия аннотаций и помимо решения задачи вычисления результата математического выражения, еще и позволит автоматически восстанавливать деревья зависимостей из данных."
      ],
      "metadata": {
        "id": "VMciaNxzldhG"
      },
      "id": "VMciaNxzldhG"
    },
    {
      "cell_type": "markdown",
      "source": [
        "Перейдем к делу, ниже идут ячейки, которые загружают нужные нам модули и импортируют библиотеки."
      ],
      "metadata": {
        "id": "cHovSMATnSsK"
      },
      "id": "cHovSMATnSsK"
    },
    {
      "cell_type": "code",
      "source": [
        "!git clone https://github.com/agadetsky/sochischool.git"
      ],
      "metadata": {
        "colab": {
          "base_uri": "https://localhost:8080/"
        },
        "id": "1CNxcSwfbLxs",
        "outputId": "d676c0c2-357a-4c06-8a3e-782e95a646f6"
      },
      "id": "1CNxcSwfbLxs",
      "execution_count": 2,
      "outputs": [
        {
          "output_type": "stream",
          "name": "stdout",
          "text": [
            "Cloning into 'sochischool'...\n",
            "remote: Enumerating objects: 278, done.\u001b[K\n",
            "remote: Counting objects: 100% (47/47), done.\u001b[K\n",
            "remote: Compressing objects: 100% (28/28), done.\u001b[K\n",
            "remote: Total 278 (delta 18), reused 19 (delta 8), pack-reused 231\u001b[K\n",
            "Receiving objects: 100% (278/278), 50.92 MiB | 30.62 MiB/s, done.\n",
            "Resolving deltas: 100% (67/67), done.\n",
            "Checking out files: 100% (195/195), done.\n"
          ]
        }
      ]
    },
    {
      "cell_type": "code",
      "source": [
        "!pip install -qU git+https://github.com/harvardnlp/pytorch-struct"
      ],
      "metadata": {
        "colab": {
          "base_uri": "https://localhost:8080/"
        },
        "id": "QEwPcViWbb-r",
        "outputId": "ab5a6f42-4e79-4f87-cda1-23e52bcb0d63"
      },
      "id": "QEwPcViWbb-r",
      "execution_count": 3,
      "outputs": [
        {
          "output_type": "stream",
          "name": "stdout",
          "text": [
            "  Building wheel for torch-struct (setup.py) ... \u001b[?25l\u001b[?25hdone\n"
          ]
        }
      ]
    },
    {
      "cell_type": "code",
      "source": [
        "import random\n",
        "import sys\n",
        "sys.path.append('/content/sochischool/')"
      ],
      "metadata": {
        "id": "KVy40zmHbP6p"
      },
      "id": "KVy40zmHbP6p",
      "execution_count": 4,
      "outputs": []
    },
    {
      "cell_type": "code",
      "execution_count": 5,
      "id": "8a5a99b7",
      "metadata": {
        "id": "8a5a99b7"
      },
      "outputs": [],
      "source": [
        "import torch\n",
        "import numpy as np\n",
        "from torch_struct import DependencyCRF\n",
        "from tqdm import tqdm"
      ]
    },
    {
      "cell_type": "code",
      "execution_count": 17,
      "id": "e6d5e694",
      "metadata": {
        "id": "e6d5e694"
      },
      "outputs": [],
      "source": [
        "import listops.data as _data\n",
        "import listops.model as _model\n",
        "import listops.data_processing.python.loading as _loading\n",
        "from listops.school_utils import compute_metrics\n",
        "from listops.model_modules.sampler import DependencySampler, BinaryIndependentSampler"
      ]
    },
    {
      "cell_type": "code",
      "source": [
        "seed = 42\n",
        "torch.manual_seed(seed)\n",
        "random.seed(seed)\n",
        "np.random.seed(seed)"
      ],
      "metadata": {
        "id": "UQZAcbLoLwhC"
      },
      "id": "UQZAcbLoLwhC",
      "execution_count": 7,
      "outputs": []
    },
    {
      "cell_type": "code",
      "execution_count": 8,
      "id": "071d899d",
      "metadata": {
        "id": "071d899d"
      },
      "outputs": [],
      "source": [
        "%%capture\n",
        "\n",
        "datasets = _data.get_datasets(\n",
        "    \"var_5_50_nosm_20000\",\n",
        "    datadirpath=\"/content/sochischool/listops/data_processing/python/listops/data\"\n",
        "  )"
      ]
    },
    {
      "cell_type": "code",
      "execution_count": 10,
      "id": "51f4befb",
      "metadata": {
        "id": "51f4befb"
      },
      "outputs": [],
      "source": [
        "%%capture\n",
        "\n",
        "train_loader, val_loader, test_loader  = _data.get_dataloaders(datasets, batchsize=50)"
      ]
    },
    {
      "cell_type": "markdown",
      "source": [
        "Вся работа с данными была реализована за вас. Так как мы работаем с синтетическими данными, то нам известны правильные деревья разбора, которые мы в будущем будем использовать для оценивания качества их восстановления.\n",
        "\n",
        "$$\n",
        "\\begin{align}\n",
        "x & \\in \\{0, \\dots \\lvert V \\rvert - 1\\}^{n} \\text{ - последовательность длины } n,\\ V \\text{ - словарь используемых символов} \\\\\n",
        "y & \\in \\{0, \\dots, 9\\} \\text{ - метки класса (результат выражения - число от 0 до 9)}\\\\\n",
        "\\text{arcs} & \\in \\{0, 1\\}^{n \\times n} \\text{ - граф зависимостей между словами в } x\n",
        "\\end{align}\n",
        "$$"
      ],
      "metadata": {
        "id": "TRF8sl5ZiLEj"
      },
      "id": "TRF8sl5ZiLEj"
    },
    {
      "cell_type": "code",
      "source": [
        "x, y, arcs, lengths, depths = next(iter(train_loader))"
      ],
      "metadata": {
        "id": "vEr5pGPifm18"
      },
      "id": "vEr5pGPifm18",
      "execution_count": 11,
      "outputs": []
    },
    {
      "cell_type": "code",
      "source": [
        "def print_eq(x, y):\n",
        "  print(\" \".join([_loading.ix_to_word[elem] for elem in x if elem != _loading.word_to_ix[\"<PAD>\"]]) + \" = \" + str(y.item()))"
      ],
      "metadata": {
        "id": "XDU-wY3XhKIZ"
      },
      "id": "XDU-wY3XhKIZ",
      "execution_count": 29,
      "outputs": []
    },
    {
      "cell_type": "code",
      "source": [
        "idx = 33\n",
        "print_eq(x[idx].cpu().numpy().tolist(), y[idx])"
      ],
      "metadata": {
        "id": "e5MOYevHgZ9g",
        "outputId": "5fe792f0-fa42-4b8d-f12d-233441f3e227",
        "colab": {
          "base_uri": "https://localhost:8080/"
        }
      },
      "id": "e5MOYevHgZ9g",
      "execution_count": 32,
      "outputs": [
        {
          "output_type": "stream",
          "name": "stdout",
          "text": [
            "[MIN 8 8 9 [MED 1 6 0 ] ] = 1\n"
          ]
        }
      ]
    },
    {
      "cell_type": "code",
      "source": [
        ""
      ],
      "metadata": {
        "id": "w4E0i6VmgaNp"
      },
      "id": "w4E0i6VmgaNp",
      "execution_count": null,
      "outputs": []
    },
    {
      "cell_type": "markdown",
      "source": [
        "Здесь про модель в общем виде, а потом про бинарный сэмплер"
      ],
      "metadata": {
        "id": "ZBKIbcifiTCz"
      },
      "id": "ZBKIbcifiTCz"
    },
    {
      "cell_type": "code",
      "source": [
        "class BinarySampler(BinaryIndependentSampler):\n",
        "\n",
        "    def __init__(self, noise, tau):\n",
        "        assert noise in set(['logistic'])\n",
        "        super(BinarySampler, self).__init__(\"soft\", noise, tau)\n",
        "\n",
        "    def inject_noise(self, A):\n",
        "        if self.noise == \"logistic\":\n",
        "            u = torch.distributions.utils.clamp_probs(torch.rand_like(A))\n",
        "            noise = u.log() - u.neg().log1p()\n",
        "            return (A + noise) / self.tau\n",
        "\n",
        "    def sample(self, A, lengths, mode):\n",
        "        if mode == \"soft\":\n",
        "            return self.inject_noise(A).sigmoid()\n",
        "        elif mode == \"hard\":\n",
        "            return (self.inject_noise(A.detach()) > 0.0).float()"
      ],
      "metadata": {
        "id": "whNZhjGziZVo"
      },
      "id": "whNZhjGziZVo",
      "execution_count": null,
      "outputs": []
    },
    {
      "cell_type": "code",
      "execution_count": 11,
      "id": "9170d898",
      "metadata": {
        "scrolled": true,
        "id": "9170d898"
      },
      "outputs": [],
      "source": [
        "def training(m, train_loader, opt, num_epochs):\n",
        "    m.train()\n",
        "    for _ in range(num_epochs):\n",
        "        for batch_idx, (x, y, arcs, lengths, depths) in enumerate(tqdm(train_loader)):\n",
        "            opt.zero_grad()\n",
        "\n",
        "            x = x.cuda()\n",
        "            y = y.cuda()\n",
        "            arcs = arcs.cuda()\n",
        "            lengths = lengths.cuda()\n",
        "            \n",
        "            with torch.set_grad_enabled(True):\n",
        "                pred_logits = m(x, arcs, lengths)\n",
        "                loss = torch.nn.functional.cross_entropy(pred_logits, y)\n",
        "                loss.backward()\n",
        "                opt.step()"
      ]
    },
    {
      "cell_type": "code",
      "source": [
        "def validation(m, val_loader):\n",
        "    m.eval()\n",
        "    val_losses = []\n",
        "    val_accs = []\n",
        "    val_precs = []\n",
        "    val_recs = []\n",
        "    for batch_idx, (x, y, arcs, lengths, depths) in enumerate(tqdm(val_loader)):\n",
        "        x = x.cuda()\n",
        "        y = y.cuda()\n",
        "        arcs = arcs.cuda()\n",
        "        lengths = lengths.cuda()\n",
        "        with torch.no_grad():\n",
        "          pred_logits = m(x, arcs, lengths)\n",
        "          loss = torch.nn.functional.cross_entropy(pred_logits, y)\n",
        "          acc = (pred_logits.argmax(-1) == y).float().mean()\n",
        "          precision, recall = (compute_metrics(m.sample, arcs, lengths))\n",
        "\n",
        "        val_losses.append(loss.item())\n",
        "        val_accs.append(acc.item())\n",
        "        val_precs.append(precision.item())\n",
        "        val_recs.append(recall.item())\n",
        "    return val_losses, val_accs, val_precs, val_recs"
      ],
      "metadata": {
        "id": "2LVvsc53oz1c"
      },
      "id": "2LVvsc53oz1c",
      "execution_count": 12,
      "outputs": []
    },
    {
      "cell_type": "code",
      "execution_count": 13,
      "id": "ac27ffd3",
      "metadata": {
        "colab": {
          "base_uri": "https://localhost:8080/"
        },
        "id": "ac27ffd3",
        "outputId": "b67f6030-ac48-4d14-dc09-5d16846ebdf2"
      },
      "outputs": [
        {
          "output_type": "stream",
          "name": "stderr",
          "text": [
            "/usr/local/lib/python3.7/dist-packages/torch/nn/modules/rnn.py:65: UserWarning: dropout option adds dropout after all but last recurrent layer, so non-zero dropout expects num_layers greater than 1, but got dropout=0.1 and num_layers=1\n",
            "  \"num_layers={}\".format(dropout, num_layers))\n",
            "100%|██████████| 2000/2000 [02:56<00:00, 11.35it/s]\n",
            "100%|██████████| 2000/2000 [02:56<00:00, 11.33it/s]\n"
          ]
        }
      ],
      "source": [
        "sampler = BinarySampler(\"logistic\", 1.0)\n",
        "m = _model.get_school_model(sampler)\n",
        "m.cuda()\n",
        "opt = torch.optim.AdamW(m.parameters())\n",
        "training(m, train_loader, opt, num_epochs=2)"
      ]
    },
    {
      "cell_type": "code",
      "source": [
        "val_losses, val_accs, val_precs, val_recs = validation(m, val_loader)"
      ],
      "metadata": {
        "colab": {
          "base_uri": "https://localhost:8080/"
        },
        "id": "9qu1vTdwCfMz",
        "outputId": "f43d3bce-88da-4fef-e069-e079715d8ace"
      },
      "id": "9qu1vTdwCfMz",
      "execution_count": 14,
      "outputs": [
        {
          "output_type": "stream",
          "name": "stderr",
          "text": [
            "100%|██████████| 10/10 [00:08<00:00,  1.16it/s]\n"
          ]
        }
      ]
    },
    {
      "cell_type": "code",
      "execution_count": 15,
      "id": "c6eb15ee",
      "metadata": {
        "colab": {
          "base_uri": "https://localhost:8080/"
        },
        "id": "c6eb15ee",
        "outputId": "881289de-7bc0-4b6e-cd5f-a84f351d78d8"
      },
      "outputs": [
        {
          "output_type": "execute_result",
          "data": {
            "text/plain": [
              "0.530943063646555"
            ]
          },
          "metadata": {},
          "execution_count": 15
        }
      ],
      "source": [
        "np.mean(val_losses)"
      ]
    },
    {
      "cell_type": "code",
      "source": [
        "np.mean(val_accs)"
      ],
      "metadata": {
        "colab": {
          "base_uri": "https://localhost:8080/"
        },
        "id": "OoMXGM6qpz4N",
        "outputId": "cfad2559-9a41-4e17-f1c7-3af8085c8879"
      },
      "id": "OoMXGM6qpz4N",
      "execution_count": 16,
      "outputs": [
        {
          "output_type": "execute_result",
          "data": {
            "text/plain": [
              "0.8084000408649444"
            ]
          },
          "metadata": {},
          "execution_count": 16
        }
      ]
    },
    {
      "cell_type": "code",
      "source": [
        "np.mean(val_precs)"
      ],
      "metadata": {
        "colab": {
          "base_uri": "https://localhost:8080/"
        },
        "id": "d01WMkH_p00w",
        "outputId": "b4990981-ce5f-4bfd-e1c1-818fc6ddb3b2"
      },
      "id": "d01WMkH_p00w",
      "execution_count": 17,
      "outputs": [
        {
          "output_type": "execute_result",
          "data": {
            "text/plain": [
              "0.10717825219035149"
            ]
          },
          "metadata": {},
          "execution_count": 17
        }
      ]
    },
    {
      "cell_type": "code",
      "source": [
        "np.mean(val_recs)"
      ],
      "metadata": {
        "colab": {
          "base_uri": "https://localhost:8080/"
        },
        "id": "-pqpp2Zqp1zb",
        "outputId": "268bbfd6-45d3-47e6-8643-1e8a902103d2"
      },
      "id": "-pqpp2Zqp1zb",
      "execution_count": 18,
      "outputs": [
        {
          "output_type": "execute_result",
          "data": {
            "text/plain": [
              "0.40346491038799287"
            ]
          },
          "metadata": {},
          "execution_count": 18
        }
      ]
    },
    {
      "cell_type": "code",
      "source": [
        ""
      ],
      "metadata": {
        "id": "4HPs_ct2p3vJ"
      },
      "id": "4HPs_ct2p3vJ",
      "execution_count": null,
      "outputs": []
    },
    {
      "cell_type": "code",
      "source": [
        ""
      ],
      "metadata": {
        "id": "-01cVy2bwX1p"
      },
      "id": "-01cVy2bwX1p",
      "execution_count": null,
      "outputs": []
    },
    {
      "cell_type": "code",
      "source": [
        ""
      ],
      "metadata": {
        "id": "cDaq33ICilUa"
      },
      "id": "cDaq33ICilUa",
      "execution_count": null,
      "outputs": []
    },
    {
      "cell_type": "code",
      "source": [
        ""
      ],
      "metadata": {
        "id": "cKpcarWNilfD"
      },
      "id": "cKpcarWNilfD",
      "execution_count": null,
      "outputs": []
    },
    {
      "cell_type": "markdown",
      "source": [
        "Здесь про надобность структуры (картинку из perturb and parse) и про projective sampler"
      ],
      "metadata": {
        "id": "VilBIMo6inuX"
      },
      "id": "VilBIMo6inuX"
    },
    {
      "cell_type": "code",
      "source": [
        "class ProjectiveSampler(DependencySampler):\n",
        "\n",
        "    def __init__(self, noise, tau):\n",
        "        assert noise in set(['gumbel', 'gaussian'])\n",
        "        super(ProjectiveSampler, self).__init__(\"soft\", noise, tau, True, False)\n",
        "        \n",
        "    def inject_noise(self, A):\n",
        "        if self.noise == \"gumbel\":\n",
        "            u = torch.distributions.utils.clamp_probs(torch.rand_like(A))\n",
        "            noise = u.log().neg().log().neg()\n",
        "            return (A + noise) / self.tau\n",
        "        elif self.noise == \"gaussian\":\n",
        "            noise = torch.randn_like(A)\n",
        "            return (A + noise) / self.tau\n",
        "\n",
        "    def sample(self, A, lengths, mode):\n",
        "        if mode == \"soft\":\n",
        "            return DependencyCRF(self.inject_noise(A), lengths).marginals\n",
        "        elif mode == \"hard\":\n",
        "            return DependencyCRF(self.inject_noise(A), lengths).argmax.detach()"
      ],
      "metadata": {
        "id": "pWa7xBoMillp"
      },
      "id": "pWa7xBoMillp",
      "execution_count": null,
      "outputs": []
    },
    {
      "cell_type": "code",
      "source": [
        "sampler = ProjectiveSampler(\"gumbel\", 1.0)\n",
        "m = _model.get_school_model(sampler)\n",
        "m.cuda()\n",
        "opt = torch.optim.AdamW(m.parameters())\n",
        "training(m, train_loader, opt, num_epochs=2)"
      ],
      "metadata": {
        "colab": {
          "base_uri": "https://localhost:8080/"
        },
        "id": "8yZh77MzwX7Y",
        "outputId": "32e7b1db-a47f-4c54-bd52-39167d04489b"
      },
      "id": "8yZh77MzwX7Y",
      "execution_count": 19,
      "outputs": [
        {
          "output_type": "stream",
          "name": "stderr",
          "text": [
            "/usr/local/lib/python3.7/dist-packages/torch/nn/modules/rnn.py:65: UserWarning: dropout option adds dropout after all but last recurrent layer, so non-zero dropout expects num_layers greater than 1, but got dropout=0.1 and num_layers=1\n",
            "  \"num_layers={}\".format(dropout, num_layers))\n",
            "100%|██████████| 2000/2000 [12:03<00:00,  2.76it/s]\n",
            "100%|██████████| 2000/2000 [12:03<00:00,  2.77it/s]\n"
          ]
        }
      ]
    },
    {
      "cell_type": "code",
      "source": [
        "val_losses, val_accs, val_precs, val_recs = validation(m, val_loader)"
      ],
      "metadata": {
        "colab": {
          "base_uri": "https://localhost:8080/"
        },
        "id": "n8XtwcxDx3Wz",
        "outputId": "16d11dee-c347-41e2-a5b0-30a9e6cbb51c"
      },
      "id": "n8XtwcxDx3Wz",
      "execution_count": 20,
      "outputs": [
        {
          "output_type": "stream",
          "name": "stderr",
          "text": [
            "100%|██████████| 10/10 [00:12<00:00,  1.23s/it]\n"
          ]
        }
      ]
    },
    {
      "cell_type": "code",
      "source": [
        "np.mean(val_losses)"
      ],
      "metadata": {
        "colab": {
          "base_uri": "https://localhost:8080/"
        },
        "id": "HXcfDBDgza8o",
        "outputId": "3a0001c7-3021-4dd7-c059-38b1e6813c04"
      },
      "id": "HXcfDBDgza8o",
      "execution_count": 21,
      "outputs": [
        {
          "output_type": "execute_result",
          "data": {
            "text/plain": [
              "0.7142713025212288"
            ]
          },
          "metadata": {},
          "execution_count": 21
        }
      ]
    },
    {
      "cell_type": "code",
      "source": [
        "np.mean(val_accs)"
      ],
      "metadata": {
        "colab": {
          "base_uri": "https://localhost:8080/"
        },
        "id": "bwn1TbbVNPef",
        "outputId": "96b755b8-fa16-4c43-995a-a0aab14714ac"
      },
      "id": "bwn1TbbVNPef",
      "execution_count": 22,
      "outputs": [
        {
          "output_type": "execute_result",
          "data": {
            "text/plain": [
              "0.7508000373840332"
            ]
          },
          "metadata": {},
          "execution_count": 22
        }
      ]
    },
    {
      "cell_type": "code",
      "source": [
        "np.mean(val_precs)"
      ],
      "metadata": {
        "colab": {
          "base_uri": "https://localhost:8080/"
        },
        "id": "3UhgGITeNSYt",
        "outputId": "a49a4bcc-99ba-4310-c08b-6b0fc937543c"
      },
      "id": "3UhgGITeNSYt",
      "execution_count": 23,
      "outputs": [
        {
          "output_type": "execute_result",
          "data": {
            "text/plain": [
              "0.6151826977729797"
            ]
          },
          "metadata": {},
          "execution_count": 23
        }
      ]
    },
    {
      "cell_type": "code",
      "source": [
        "np.mean(val_recs)"
      ],
      "metadata": {
        "colab": {
          "base_uri": "https://localhost:8080/"
        },
        "id": "L-nNxvlsNTBd",
        "outputId": "6ee664ac-f67f-4d9b-edf8-382dc74a8e72"
      },
      "id": "L-nNxvlsNTBd",
      "execution_count": 24,
      "outputs": [
        {
          "output_type": "execute_result",
          "data": {
            "text/plain": [
              "0.6151826977729797"
            ]
          },
          "metadata": {},
          "execution_count": 24
        }
      ]
    },
    {
      "cell_type": "code",
      "source": [
        ""
      ],
      "metadata": {
        "id": "GNUaEEqjUCJI"
      },
      "id": "GNUaEEqjUCJI",
      "execution_count": null,
      "outputs": []
    }
  ],
  "metadata": {
    "kernelspec": {
      "display_name": "Python 3 (ipykernel)",
      "language": "python",
      "name": "python3"
    },
    "language_info": {
      "codemirror_mode": {
        "name": "ipython",
        "version": 3
      },
      "file_extension": ".py",
      "mimetype": "text/x-python",
      "name": "python",
      "nbconvert_exporter": "python",
      "pygments_lexer": "ipython3",
      "version": "3.7.4"
    },
    "colab": {
      "name": "sst_sem.ipynb",
      "provenance": []
    },
    "accelerator": "GPU",
    "gpuClass": "standard"
  },
  "nbformat": 4,
  "nbformat_minor": 5
}