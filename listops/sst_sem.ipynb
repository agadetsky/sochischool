{
  "cells": [
    {
      "cell_type": "code",
      "source": [
        "!git clone https://github.com/agadetsky/sochischool.git"
      ],
      "metadata": {
        "colab": {
          "base_uri": "https://localhost:8080/"
        },
        "id": "1CNxcSwfbLxs",
        "outputId": "f1960272-572b-429c-8ebc-2621b2d42690"
      },
      "id": "1CNxcSwfbLxs",
      "execution_count": 1,
      "outputs": [
        {
          "output_type": "stream",
          "name": "stdout",
          "text": [
            "Cloning into 'sochischool'...\n",
            "remote: Enumerating objects: 266, done.\u001b[K\n",
            "remote: Counting objects: 100% (35/35), done.\u001b[K\n",
            "remote: Compressing objects: 100% (19/19), done.\u001b[K\n",
            "remote: Total 266 (delta 13), reused 19 (delta 8), pack-reused 231\u001b[K\n",
            "Receiving objects: 100% (266/266), 50.76 MiB | 26.59 MiB/s, done.\n",
            "Resolving deltas: 100% (62/62), done.\n",
            "Checking out files: 100% (195/195), done.\n"
          ]
        }
      ]
    },
    {
      "cell_type": "code",
      "source": [
        "!pip install -qU git+https://github.com/harvardnlp/pytorch-struct"
      ],
      "metadata": {
        "colab": {
          "base_uri": "https://localhost:8080/"
        },
        "id": "QEwPcViWbb-r",
        "outputId": "4ec2ba39-4a6f-44ba-9070-9072c37e9273"
      },
      "id": "QEwPcViWbb-r",
      "execution_count": 2,
      "outputs": [
        {
          "output_type": "stream",
          "name": "stdout",
          "text": [
            "  Building wheel for torch-struct (setup.py) ... \u001b[?25l\u001b[?25hdone\n"
          ]
        }
      ]
    },
    {
      "cell_type": "code",
      "source": [
        "import random\n",
        "import sys\n",
        "sys.path.append('/content/sochischool/')"
      ],
      "metadata": {
        "id": "KVy40zmHbP6p"
      },
      "id": "KVy40zmHbP6p",
      "execution_count": 3,
      "outputs": []
    },
    {
      "cell_type": "code",
      "execution_count": 4,
      "id": "8a5a99b7",
      "metadata": {
        "id": "8a5a99b7"
      },
      "outputs": [],
      "source": [
        "import torch\n",
        "import numpy as np\n",
        "from torch_struct import DependencyCRF\n",
        "from tqdm import tqdm"
      ]
    },
    {
      "cell_type": "code",
      "execution_count": 5,
      "id": "e6d5e694",
      "metadata": {
        "id": "e6d5e694"
      },
      "outputs": [],
      "source": [
        "import listops.data as _data\n",
        "import listops.model as _model\n",
        "from listops.school_utils import compute_metrics\n",
        "from listops.model_modules.sampler import DependencySampler, BinaryIndependentSampler"
      ]
    },
    {
      "cell_type": "code",
      "source": [
        "seed = 42\n",
        "torch.manual_seed(seed)\n",
        "random.seed(seed)\n",
        "np.random.seed(seed)"
      ],
      "metadata": {
        "id": "UQZAcbLoLwhC"
      },
      "id": "UQZAcbLoLwhC",
      "execution_count": 6,
      "outputs": []
    },
    {
      "cell_type": "code",
      "execution_count": 7,
      "id": "071d899d",
      "metadata": {
        "id": "071d899d"
      },
      "outputs": [],
      "source": [
        "%%capture\n",
        "\n",
        "datasets = _data.get_datasets(\n",
        "    \"var_5_50_nosm_20000\",\n",
        "    datadirpath=\"/content/sochischool/listops/data_processing/python/listops/data\"\n",
        "  )"
      ]
    },
    {
      "cell_type": "code",
      "execution_count": 8,
      "id": "51f4befb",
      "metadata": {
        "id": "51f4befb"
      },
      "outputs": [],
      "source": [
        "%%capture\n",
        "\n",
        "train_loader, val_loader, test_loader  = _data.get_dataloaders(datasets, batchsize=50)"
      ]
    },
    {
      "cell_type": "code",
      "execution_count": 9,
      "id": "bede9166",
      "metadata": {
        "id": "bede9166"
      },
      "outputs": [],
      "source": [
        "class ProjectiveSampler(DependencySampler):\n",
        "\n",
        "    def __init__(self, noise, tau):\n",
        "        assert noise in set(['gumbel', 'gaussian'])\n",
        "        super(ProjectiveSampler, self).__init__(\"soft\", noise, tau, True, False)\n",
        "        \n",
        "    def inject_noise(self, A):\n",
        "        if self.noise == \"gumbel\":\n",
        "            u = torch.distributions.utils.clamp_probs(torch.rand_like(A))\n",
        "            noise = u.log().neg().log().neg()\n",
        "            return (A + noise) / self.tau\n",
        "        elif self.noise == \"gaussian\":\n",
        "            noise = torch.randn_like(A)\n",
        "            return (A + noise) / self.tau\n",
        "\n",
        "    def sample(self, A, lengths, mode):\n",
        "        if mode == \"soft\":\n",
        "            return DependencyCRF(self.inject_noise(A), lengths).marginals\n",
        "        elif mode == \"hard\":\n",
        "            return DependencyCRF(self.inject_noise(A), lengths).argmax.detach()"
      ]
    },
    {
      "cell_type": "code",
      "source": [
        "class BinarySampler(BinaryIndependentSampler):\n",
        "\n",
        "    def __init__(self, noise, tau):\n",
        "        assert noise in set(['logistic'])\n",
        "        super(BinarySampler, self).__init__(\"soft\", noise, tau)\n",
        "\n",
        "    def inject_noise(self, A):\n",
        "        if self.noise == \"logistic\":\n",
        "            u = torch.distributions.utils.clamp_probs(torch.rand_like(A))\n",
        "            noise = u.log() - u.neg().log1p()\n",
        "            return (A + noise) / self.tau\n",
        "\n",
        "    def sample(self, A, lengths, mode):\n",
        "        if mode == \"soft\":\n",
        "            return self.inject_noise(A).sigmoid()\n",
        "        elif mode == \"hard\":\n",
        "            return (self.inject_noise(A.detach()) > 0.0).float()"
      ],
      "metadata": {
        "id": "gZK5vZqLqdSU"
      },
      "id": "gZK5vZqLqdSU",
      "execution_count": 10,
      "outputs": []
    },
    {
      "cell_type": "code",
      "execution_count": 11,
      "id": "9170d898",
      "metadata": {
        "scrolled": true,
        "id": "9170d898"
      },
      "outputs": [],
      "source": [
        "def training(m, train_loader, opt, num_epochs):\n",
        "    m.train()\n",
        "    for _ in range(num_epochs):\n",
        "        for batch_idx, (x, y, arcs, lengths, depths) in enumerate(tqdm(train_loader)):\n",
        "            opt.zero_grad()\n",
        "\n",
        "            x = x.cuda()\n",
        "            y = y.cuda()\n",
        "            arcs = arcs.cuda()\n",
        "            lengths = lengths.cuda()\n",
        "            \n",
        "            with torch.set_grad_enabled(True):\n",
        "                pred_logits = m(x, arcs, lengths)\n",
        "                loss = torch.nn.functional.cross_entropy(pred_logits, y)\n",
        "                loss.backward()\n",
        "                opt.step()"
      ]
    },
    {
      "cell_type": "code",
      "source": [
        "def validation(m, val_loader):\n",
        "    m.eval()\n",
        "    val_losses = []\n",
        "    val_accs = []\n",
        "    val_precs = []\n",
        "    val_recs = []\n",
        "    for batch_idx, (x, y, arcs, lengths, depths) in enumerate(tqdm(val_loader)):\n",
        "        x = x.cuda()\n",
        "        y = y.cuda()\n",
        "        arcs = arcs.cuda()\n",
        "        lengths = lengths.cuda()\n",
        "        with torch.no_grad():\n",
        "          pred_logits = m(x, arcs, lengths)\n",
        "          loss = torch.nn.functional.cross_entropy(pred_logits, y)\n",
        "          acc = (pred_logits.argmax(-1) == y).float().mean()\n",
        "          precision, recall = (compute_metrics(m.sample, arcs, lengths))\n",
        "\n",
        "        val_losses.append(loss.item())\n",
        "        val_accs.append(acc.item())\n",
        "        val_precs.append(precision.item())\n",
        "        val_recs.append(recall.item())\n",
        "    return val_losses, val_accs, val_precs, val_recs"
      ],
      "metadata": {
        "id": "2LVvsc53oz1c"
      },
      "id": "2LVvsc53oz1c",
      "execution_count": 12,
      "outputs": []
    },
    {
      "cell_type": "code",
      "execution_count": 13,
      "id": "ac27ffd3",
      "metadata": {
        "colab": {
          "base_uri": "https://localhost:8080/"
        },
        "id": "ac27ffd3",
        "outputId": "b67f6030-ac48-4d14-dc09-5d16846ebdf2"
      },
      "outputs": [
        {
          "output_type": "stream",
          "name": "stderr",
          "text": [
            "/usr/local/lib/python3.7/dist-packages/torch/nn/modules/rnn.py:65: UserWarning: dropout option adds dropout after all but last recurrent layer, so non-zero dropout expects num_layers greater than 1, but got dropout=0.1 and num_layers=1\n",
            "  \"num_layers={}\".format(dropout, num_layers))\n",
            "100%|██████████| 2000/2000 [02:56<00:00, 11.35it/s]\n",
            "100%|██████████| 2000/2000 [02:56<00:00, 11.33it/s]\n"
          ]
        }
      ],
      "source": [
        "sampler = BinarySampler(\"logistic\", 1.0)\n",
        "m = _model.get_school_model(sampler)\n",
        "m.cuda()\n",
        "opt = torch.optim.AdamW(m.parameters())\n",
        "training(m, train_loader, opt, num_epochs=2)"
      ]
    },
    {
      "cell_type": "code",
      "source": [
        "val_losses, val_accs, val_precs, val_recs = validation(m, val_loader)"
      ],
      "metadata": {
        "colab": {
          "base_uri": "https://localhost:8080/"
        },
        "id": "9qu1vTdwCfMz",
        "outputId": "f43d3bce-88da-4fef-e069-e079715d8ace"
      },
      "id": "9qu1vTdwCfMz",
      "execution_count": 14,
      "outputs": [
        {
          "output_type": "stream",
          "name": "stderr",
          "text": [
            "100%|██████████| 10/10 [00:08<00:00,  1.16it/s]\n"
          ]
        }
      ]
    },
    {
      "cell_type": "code",
      "execution_count": 15,
      "id": "c6eb15ee",
      "metadata": {
        "colab": {
          "base_uri": "https://localhost:8080/"
        },
        "id": "c6eb15ee",
        "outputId": "881289de-7bc0-4b6e-cd5f-a84f351d78d8"
      },
      "outputs": [
        {
          "output_type": "execute_result",
          "data": {
            "text/plain": [
              "0.530943063646555"
            ]
          },
          "metadata": {},
          "execution_count": 15
        }
      ],
      "source": [
        "np.mean(val_losses)"
      ]
    },
    {
      "cell_type": "code",
      "source": [
        "np.mean(val_accs)"
      ],
      "metadata": {
        "colab": {
          "base_uri": "https://localhost:8080/"
        },
        "id": "OoMXGM6qpz4N",
        "outputId": "cfad2559-9a41-4e17-f1c7-3af8085c8879"
      },
      "id": "OoMXGM6qpz4N",
      "execution_count": 16,
      "outputs": [
        {
          "output_type": "execute_result",
          "data": {
            "text/plain": [
              "0.8084000408649444"
            ]
          },
          "metadata": {},
          "execution_count": 16
        }
      ]
    },
    {
      "cell_type": "code",
      "source": [
        "np.mean(val_precs)"
      ],
      "metadata": {
        "colab": {
          "base_uri": "https://localhost:8080/"
        },
        "id": "d01WMkH_p00w",
        "outputId": "b4990981-ce5f-4bfd-e1c1-818fc6ddb3b2"
      },
      "id": "d01WMkH_p00w",
      "execution_count": 17,
      "outputs": [
        {
          "output_type": "execute_result",
          "data": {
            "text/plain": [
              "0.10717825219035149"
            ]
          },
          "metadata": {},
          "execution_count": 17
        }
      ]
    },
    {
      "cell_type": "code",
      "source": [
        "np.mean(val_recs)"
      ],
      "metadata": {
        "colab": {
          "base_uri": "https://localhost:8080/"
        },
        "id": "-pqpp2Zqp1zb",
        "outputId": "268bbfd6-45d3-47e6-8643-1e8a902103d2"
      },
      "id": "-pqpp2Zqp1zb",
      "execution_count": 18,
      "outputs": [
        {
          "output_type": "execute_result",
          "data": {
            "text/plain": [
              "0.40346491038799287"
            ]
          },
          "metadata": {},
          "execution_count": 18
        }
      ]
    },
    {
      "cell_type": "code",
      "source": [
        ""
      ],
      "metadata": {
        "id": "4HPs_ct2p3vJ"
      },
      "id": "4HPs_ct2p3vJ",
      "execution_count": null,
      "outputs": []
    },
    {
      "cell_type": "code",
      "source": [
        ""
      ],
      "metadata": {
        "id": "-01cVy2bwX1p"
      },
      "id": "-01cVy2bwX1p",
      "execution_count": null,
      "outputs": []
    },
    {
      "cell_type": "code",
      "source": [
        "sampler = ProjectiveSampler(\"gumbel\", 1.0)\n",
        "m = _model.get_school_model(sampler)\n",
        "m.cuda()\n",
        "opt = torch.optim.AdamW(m.parameters())\n",
        "training(m, train_loader, opt, num_epochs=2)"
      ],
      "metadata": {
        "colab": {
          "base_uri": "https://localhost:8080/"
        },
        "id": "8yZh77MzwX7Y",
        "outputId": "32e7b1db-a47f-4c54-bd52-39167d04489b"
      },
      "id": "8yZh77MzwX7Y",
      "execution_count": 19,
      "outputs": [
        {
          "output_type": "stream",
          "name": "stderr",
          "text": [
            "/usr/local/lib/python3.7/dist-packages/torch/nn/modules/rnn.py:65: UserWarning: dropout option adds dropout after all but last recurrent layer, so non-zero dropout expects num_layers greater than 1, but got dropout=0.1 and num_layers=1\n",
            "  \"num_layers={}\".format(dropout, num_layers))\n",
            "100%|██████████| 2000/2000 [12:03<00:00,  2.76it/s]\n",
            "100%|██████████| 2000/2000 [12:03<00:00,  2.77it/s]\n"
          ]
        }
      ]
    },
    {
      "cell_type": "code",
      "source": [
        "val_losses, val_accs, val_precs, val_recs = validation(m, val_loader)"
      ],
      "metadata": {
        "colab": {
          "base_uri": "https://localhost:8080/"
        },
        "id": "n8XtwcxDx3Wz",
        "outputId": "16d11dee-c347-41e2-a5b0-30a9e6cbb51c"
      },
      "id": "n8XtwcxDx3Wz",
      "execution_count": 20,
      "outputs": [
        {
          "output_type": "stream",
          "name": "stderr",
          "text": [
            "100%|██████████| 10/10 [00:12<00:00,  1.23s/it]\n"
          ]
        }
      ]
    },
    {
      "cell_type": "code",
      "source": [
        "np.mean(val_losses)"
      ],
      "metadata": {
        "colab": {
          "base_uri": "https://localhost:8080/"
        },
        "id": "HXcfDBDgza8o",
        "outputId": "3a0001c7-3021-4dd7-c059-38b1e6813c04"
      },
      "id": "HXcfDBDgza8o",
      "execution_count": 21,
      "outputs": [
        {
          "output_type": "execute_result",
          "data": {
            "text/plain": [
              "0.7142713025212288"
            ]
          },
          "metadata": {},
          "execution_count": 21
        }
      ]
    },
    {
      "cell_type": "code",
      "source": [
        "np.mean(val_accs)"
      ],
      "metadata": {
        "colab": {
          "base_uri": "https://localhost:8080/"
        },
        "id": "bwn1TbbVNPef",
        "outputId": "96b755b8-fa16-4c43-995a-a0aab14714ac"
      },
      "id": "bwn1TbbVNPef",
      "execution_count": 22,
      "outputs": [
        {
          "output_type": "execute_result",
          "data": {
            "text/plain": [
              "0.7508000373840332"
            ]
          },
          "metadata": {},
          "execution_count": 22
        }
      ]
    },
    {
      "cell_type": "code",
      "source": [
        "np.mean(val_precs)"
      ],
      "metadata": {
        "colab": {
          "base_uri": "https://localhost:8080/"
        },
        "id": "3UhgGITeNSYt",
        "outputId": "a49a4bcc-99ba-4310-c08b-6b0fc937543c"
      },
      "id": "3UhgGITeNSYt",
      "execution_count": 23,
      "outputs": [
        {
          "output_type": "execute_result",
          "data": {
            "text/plain": [
              "0.6151826977729797"
            ]
          },
          "metadata": {},
          "execution_count": 23
        }
      ]
    },
    {
      "cell_type": "code",
      "source": [
        "np.mean(val_recs)"
      ],
      "metadata": {
        "colab": {
          "base_uri": "https://localhost:8080/"
        },
        "id": "L-nNxvlsNTBd",
        "outputId": "6ee664ac-f67f-4d9b-edf8-382dc74a8e72"
      },
      "id": "L-nNxvlsNTBd",
      "execution_count": 24,
      "outputs": [
        {
          "output_type": "execute_result",
          "data": {
            "text/plain": [
              "0.6151826977729797"
            ]
          },
          "metadata": {},
          "execution_count": 24
        }
      ]
    },
    {
      "cell_type": "code",
      "source": [
        ""
      ],
      "metadata": {
        "id": "GNUaEEqjUCJI"
      },
      "id": "GNUaEEqjUCJI",
      "execution_count": null,
      "outputs": []
    }
  ],
  "metadata": {
    "kernelspec": {
      "display_name": "Python 3 (ipykernel)",
      "language": "python",
      "name": "python3"
    },
    "language_info": {
      "codemirror_mode": {
        "name": "ipython",
        "version": 3
      },
      "file_extension": ".py",
      "mimetype": "text/x-python",
      "name": "python",
      "nbconvert_exporter": "python",
      "pygments_lexer": "ipython3",
      "version": "3.7.4"
    },
    "colab": {
      "name": "sst_sem.ipynb",
      "provenance": []
    },
    "accelerator": "GPU",
    "gpuClass": "standard"
  },
  "nbformat": 4,
  "nbformat_minor": 5
}